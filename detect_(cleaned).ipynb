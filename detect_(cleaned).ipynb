{
  "nbformat": 4,
  "nbformat_minor": 0,
  "metadata": {
    "colab": {
      "name": "detect (cleaned).ipynb",
      "provenance": [],
      "collapsed_sections": [],
      "authorship_tag": "ABX9TyODtozWTq8M5nTjP9kIWrI4",
      "include_colab_link": true
    },
    "kernelspec": {
      "display_name": "Python 3",
      "name": "python3"
    },
    "language_info": {
      "name": "python"
    },
    "accelerator": "GPU",
    "widgets": {
      "application/vnd.jupyter.widget-state+json": {
        "ad91c40f5d54417bbf96f92ccd3df92d": {
          "model_module": "@jupyter-widgets/controls",
          "model_name": "VBoxModel",
          "model_module_version": "1.5.0",
          "state": {
            "_view_name": "VBoxView",
            "_dom_classes": [],
            "_model_name": "VBoxModel",
            "_view_module": "@jupyter-widgets/controls",
            "_model_module_version": "1.5.0",
            "_view_count": null,
            "_view_module_version": "1.5.0",
            "box_style": "",
            "layout": "IPY_MODEL_a2d6d99fc3c046f596074045358eb75b",
            "_model_module": "@jupyter-widgets/controls",
            "children": [
              "IPY_MODEL_69d0e4d5f9244df49979529341ec20a1",
              "IPY_MODEL_396f8c0297ab40d8b19e8c2b49248016",
              "IPY_MODEL_39f3f0b492ed4eee85744ff403e6def6",
              "IPY_MODEL_48d8fa2a163647a9850c98bbb0d76f1e",
              "IPY_MODEL_5f549ccfa714498ab1dbfcc6bc98628e"
            ]
          }
        },
        "a2d6d99fc3c046f596074045358eb75b": {
          "model_module": "@jupyter-widgets/base",
          "model_name": "LayoutModel",
          "model_module_version": "1.2.0",
          "state": {
            "_view_name": "LayoutView",
            "grid_template_rows": null,
            "right": null,
            "justify_content": null,
            "_view_module": "@jupyter-widgets/base",
            "overflow": null,
            "_model_module_version": "1.2.0",
            "_view_count": null,
            "flex_flow": null,
            "width": null,
            "min_width": null,
            "border": null,
            "align_items": null,
            "bottom": null,
            "_model_module": "@jupyter-widgets/base",
            "top": null,
            "grid_column": null,
            "overflow_y": null,
            "overflow_x": null,
            "grid_auto_flow": null,
            "grid_area": null,
            "grid_template_columns": null,
            "flex": null,
            "_model_name": "LayoutModel",
            "justify_items": null,
            "grid_row": null,
            "max_height": null,
            "align_content": null,
            "visibility": null,
            "align_self": null,
            "height": null,
            "min_height": null,
            "padding": null,
            "grid_auto_rows": null,
            "grid_gap": null,
            "max_width": null,
            "order": null,
            "_view_module_version": "1.2.0",
            "grid_template_areas": null,
            "object_position": null,
            "object_fit": null,
            "grid_auto_columns": null,
            "margin": null,
            "display": null,
            "left": null
          }
        },
        "69d0e4d5f9244df49979529341ec20a1": {
          "model_module": "@jupyter-widgets/controls",
          "model_name": "LabelModel",
          "model_module_version": "1.5.0",
          "state": {
            "_view_name": "LabelView",
            "style": "IPY_MODEL_d0cc30902cbc4a5d86a6c841c7bbd977",
            "_dom_classes": [],
            "description": "",
            "_model_name": "LabelModel",
            "placeholder": "​",
            "_view_module": "@jupyter-widgets/controls",
            "_model_module_version": "1.5.0",
            "value": "Select your cat or dog, then click classify",
            "_view_count": null,
            "_view_module_version": "1.5.0",
            "description_tooltip": null,
            "_model_module": "@jupyter-widgets/controls",
            "layout": "IPY_MODEL_9d4ad60f427c4a9384074d6f6705c451"
          }
        },
        "396f8c0297ab40d8b19e8c2b49248016": {
          "model_module": "@jupyter-widgets/controls",
          "model_name": "FileUploadModel",
          "model_module_version": "1.5.0",
          "state": {
            "_view_name": "FileUploadView",
            "_counter": 0,
            "style": "IPY_MODEL_8a87128ed0874253b090ab17cc556319",
            "_dom_classes": [],
            "description": "Upload",
            "multiple": false,
            "_model_name": "FileUploadModel",
            "data": [],
            "button_style": "",
            "_view_module": "@jupyter-widgets/controls",
            "_model_module_version": "1.5.0",
            "accept": "",
            "_view_count": null,
            "disabled": false,
            "_view_module_version": "1.5.0",
            "error": "",
            "description_tooltip": null,
            "metadata": [],
            "_model_module": "@jupyter-widgets/controls",
            "layout": "IPY_MODEL_3394008be50d4f57bbfdf65eab18b8d0",
            "icon": "upload"
          }
        },
        "39f3f0b492ed4eee85744ff403e6def6": {
          "model_module": "@jupyter-widgets/controls",
          "model_name": "ButtonModel",
          "model_module_version": "1.5.0",
          "state": {
            "_view_name": "ButtonView",
            "style": "IPY_MODEL_5122c9a6f5a249fa897e9c279d78e21f",
            "_dom_classes": [],
            "description": "Classify",
            "_model_name": "ButtonModel",
            "button_style": "",
            "_view_module": "@jupyter-widgets/controls",
            "_model_module_version": "1.5.0",
            "tooltip": "",
            "_view_count": null,
            "disabled": false,
            "_view_module_version": "1.5.0",
            "layout": "IPY_MODEL_5ea7883d00af43cc9079f70a4ebb9a99",
            "_model_module": "@jupyter-widgets/controls",
            "icon": ""
          }
        },
        "48d8fa2a163647a9850c98bbb0d76f1e": {
          "model_module": "@jupyter-widgets/output",
          "model_name": "OutputModel",
          "model_module_version": "1.0.0",
          "state": {
            "_view_name": "OutputView",
            "msg_id": "",
            "_dom_classes": [],
            "_model_name": "OutputModel",
            "outputs": [],
            "_view_module": "@jupyter-widgets/output",
            "_model_module_version": "1.0.0",
            "_view_count": null,
            "_view_module_version": "1.0.0",
            "layout": "IPY_MODEL_1ce55712c91548e981548a230c0620fe",
            "_model_module": "@jupyter-widgets/output"
          }
        },
        "5f549ccfa714498ab1dbfcc6bc98628e": {
          "model_module": "@jupyter-widgets/controls",
          "model_name": "LabelModel",
          "model_module_version": "1.5.0",
          "state": {
            "_view_name": "LabelView",
            "style": "IPY_MODEL_8d11509ec1cc4dd398155079849af0ab",
            "_dom_classes": [],
            "description": "",
            "_model_name": "LabelModel",
            "placeholder": "​",
            "_view_module": "@jupyter-widgets/controls",
            "_model_module_version": "1.5.0",
            "value": "Please choose an image",
            "_view_count": null,
            "_view_module_version": "1.5.0",
            "description_tooltip": null,
            "_model_module": "@jupyter-widgets/controls",
            "layout": "IPY_MODEL_77c2ba698c184afd96b92836df3543ca"
          }
        },
        "d0cc30902cbc4a5d86a6c841c7bbd977": {
          "model_module": "@jupyter-widgets/controls",
          "model_name": "DescriptionStyleModel",
          "model_module_version": "1.5.0",
          "state": {
            "_view_name": "StyleView",
            "_model_name": "DescriptionStyleModel",
            "description_width": "",
            "_view_module": "@jupyter-widgets/base",
            "_model_module_version": "1.5.0",
            "_view_count": null,
            "_view_module_version": "1.2.0",
            "_model_module": "@jupyter-widgets/controls"
          }
        },
        "9d4ad60f427c4a9384074d6f6705c451": {
          "model_module": "@jupyter-widgets/base",
          "model_name": "LayoutModel",
          "model_module_version": "1.2.0",
          "state": {
            "_view_name": "LayoutView",
            "grid_template_rows": null,
            "right": null,
            "justify_content": null,
            "_view_module": "@jupyter-widgets/base",
            "overflow": null,
            "_model_module_version": "1.2.0",
            "_view_count": null,
            "flex_flow": null,
            "width": null,
            "min_width": null,
            "border": null,
            "align_items": null,
            "bottom": null,
            "_model_module": "@jupyter-widgets/base",
            "top": null,
            "grid_column": null,
            "overflow_y": null,
            "overflow_x": null,
            "grid_auto_flow": null,
            "grid_area": null,
            "grid_template_columns": null,
            "flex": null,
            "_model_name": "LayoutModel",
            "justify_items": null,
            "grid_row": null,
            "max_height": null,
            "align_content": null,
            "visibility": null,
            "align_self": null,
            "height": null,
            "min_height": null,
            "padding": null,
            "grid_auto_rows": null,
            "grid_gap": null,
            "max_width": null,
            "order": null,
            "_view_module_version": "1.2.0",
            "grid_template_areas": null,
            "object_position": null,
            "object_fit": null,
            "grid_auto_columns": null,
            "margin": null,
            "display": null,
            "left": null
          }
        },
        "8a87128ed0874253b090ab17cc556319": {
          "model_module": "@jupyter-widgets/controls",
          "model_name": "ButtonStyleModel",
          "model_module_version": "1.5.0",
          "state": {
            "_view_name": "StyleView",
            "_model_name": "ButtonStyleModel",
            "_view_module": "@jupyter-widgets/base",
            "_model_module_version": "1.5.0",
            "_view_count": null,
            "button_color": null,
            "font_weight": "",
            "_view_module_version": "1.2.0",
            "_model_module": "@jupyter-widgets/controls"
          }
        },
        "3394008be50d4f57bbfdf65eab18b8d0": {
          "model_module": "@jupyter-widgets/base",
          "model_name": "LayoutModel",
          "model_module_version": "1.2.0",
          "state": {
            "_view_name": "LayoutView",
            "grid_template_rows": null,
            "right": null,
            "justify_content": null,
            "_view_module": "@jupyter-widgets/base",
            "overflow": null,
            "_model_module_version": "1.2.0",
            "_view_count": null,
            "flex_flow": null,
            "width": null,
            "min_width": null,
            "border": null,
            "align_items": null,
            "bottom": null,
            "_model_module": "@jupyter-widgets/base",
            "top": null,
            "grid_column": null,
            "overflow_y": null,
            "overflow_x": null,
            "grid_auto_flow": null,
            "grid_area": null,
            "grid_template_columns": null,
            "flex": null,
            "_model_name": "LayoutModel",
            "justify_items": null,
            "grid_row": null,
            "max_height": null,
            "align_content": null,
            "visibility": null,
            "align_self": null,
            "height": null,
            "min_height": null,
            "padding": null,
            "grid_auto_rows": null,
            "grid_gap": null,
            "max_width": null,
            "order": null,
            "_view_module_version": "1.2.0",
            "grid_template_areas": null,
            "object_position": null,
            "object_fit": null,
            "grid_auto_columns": null,
            "margin": null,
            "display": null,
            "left": null
          }
        },
        "5122c9a6f5a249fa897e9c279d78e21f": {
          "model_module": "@jupyter-widgets/controls",
          "model_name": "ButtonStyleModel",
          "model_module_version": "1.5.0",
          "state": {
            "_view_name": "StyleView",
            "_model_name": "ButtonStyleModel",
            "_view_module": "@jupyter-widgets/base",
            "_model_module_version": "1.5.0",
            "_view_count": null,
            "button_color": null,
            "font_weight": "",
            "_view_module_version": "1.2.0",
            "_model_module": "@jupyter-widgets/controls"
          }
        },
        "5ea7883d00af43cc9079f70a4ebb9a99": {
          "model_module": "@jupyter-widgets/base",
          "model_name": "LayoutModel",
          "model_module_version": "1.2.0",
          "state": {
            "_view_name": "LayoutView",
            "grid_template_rows": null,
            "right": null,
            "justify_content": null,
            "_view_module": "@jupyter-widgets/base",
            "overflow": null,
            "_model_module_version": "1.2.0",
            "_view_count": null,
            "flex_flow": null,
            "width": null,
            "min_width": null,
            "border": null,
            "align_items": null,
            "bottom": null,
            "_model_module": "@jupyter-widgets/base",
            "top": null,
            "grid_column": null,
            "overflow_y": null,
            "overflow_x": null,
            "grid_auto_flow": null,
            "grid_area": null,
            "grid_template_columns": null,
            "flex": null,
            "_model_name": "LayoutModel",
            "justify_items": null,
            "grid_row": null,
            "max_height": null,
            "align_content": null,
            "visibility": null,
            "align_self": null,
            "height": null,
            "min_height": null,
            "padding": null,
            "grid_auto_rows": null,
            "grid_gap": null,
            "max_width": null,
            "order": null,
            "_view_module_version": "1.2.0",
            "grid_template_areas": null,
            "object_position": null,
            "object_fit": null,
            "grid_auto_columns": null,
            "margin": null,
            "display": null,
            "left": null
          }
        },
        "8d11509ec1cc4dd398155079849af0ab": {
          "model_module": "@jupyter-widgets/controls",
          "model_name": "DescriptionStyleModel",
          "model_module_version": "1.5.0",
          "state": {
            "_view_name": "StyleView",
            "_model_name": "DescriptionStyleModel",
            "description_width": "",
            "_view_module": "@jupyter-widgets/base",
            "_model_module_version": "1.5.0",
            "_view_count": null,
            "_view_module_version": "1.2.0",
            "_model_module": "@jupyter-widgets/controls"
          }
        },
        "77c2ba698c184afd96b92836df3543ca": {
          "model_module": "@jupyter-widgets/base",
          "model_name": "LayoutModel",
          "model_module_version": "1.2.0",
          "state": {
            "_view_name": "LayoutView",
            "grid_template_rows": null,
            "right": null,
            "justify_content": null,
            "_view_module": "@jupyter-widgets/base",
            "overflow": null,
            "_model_module_version": "1.2.0",
            "_view_count": null,
            "flex_flow": null,
            "width": null,
            "min_width": null,
            "border": null,
            "align_items": null,
            "bottom": null,
            "_model_module": "@jupyter-widgets/base",
            "top": null,
            "grid_column": null,
            "overflow_y": null,
            "overflow_x": null,
            "grid_auto_flow": null,
            "grid_area": null,
            "grid_template_columns": null,
            "flex": null,
            "_model_name": "LayoutModel",
            "justify_items": null,
            "grid_row": null,
            "max_height": null,
            "align_content": null,
            "visibility": null,
            "align_self": null,
            "height": null,
            "min_height": null,
            "padding": null,
            "grid_auto_rows": null,
            "grid_gap": null,
            "max_width": null,
            "order": null,
            "_view_module_version": "1.2.0",
            "grid_template_areas": null,
            "object_position": null,
            "object_fit": null,
            "grid_auto_columns": null,
            "margin": null,
            "display": null,
            "left": null
          }
        },
        "1ce55712c91548e981548a230c0620fe": {
          "model_module": "@jupyter-widgets/base",
          "model_name": "LayoutModel",
          "model_module_version": "1.2.0",
          "state": {
            "_view_name": "LayoutView",
            "grid_template_rows": null,
            "right": null,
            "justify_content": null,
            "_view_module": "@jupyter-widgets/base",
            "overflow": null,
            "_model_module_version": "1.2.0",
            "_view_count": null,
            "flex_flow": null,
            "width": null,
            "min_width": null,
            "border": null,
            "align_items": null,
            "bottom": null,
            "_model_module": "@jupyter-widgets/base",
            "top": null,
            "grid_column": null,
            "overflow_y": null,
            "overflow_x": null,
            "grid_auto_flow": null,
            "grid_area": null,
            "grid_template_columns": null,
            "flex": null,
            "_model_name": "LayoutModel",
            "justify_items": null,
            "grid_row": null,
            "max_height": null,
            "align_content": null,
            "visibility": null,
            "align_self": null,
            "height": null,
            "min_height": null,
            "padding": null,
            "grid_auto_rows": null,
            "grid_gap": null,
            "max_width": null,
            "order": null,
            "_view_module_version": "1.2.0",
            "grid_template_areas": null,
            "object_position": null,
            "object_fit": null,
            "grid_auto_columns": null,
            "margin": null,
            "display": null,
            "left": null
          }
        }
      }
    }
  },
  "cells": [
    {
      "cell_type": "markdown",
      "metadata": {
        "id": "view-in-github",
        "colab_type": "text"
      },
      "source": [
        "<a href=\"https://colab.research.google.com/github/nicocrozier/catsvsdogs/blob/main/detect_(cleaned).ipynb\" target=\"_parent\"><img src=\"https://colab.research.google.com/assets/colab-badge.svg\" alt=\"Open In Colab\"/></a>"
      ]
    },
    {
      "cell_type": "code",
      "metadata": {
        "colab": {
          "base_uri": "https://localhost:8080/"
        },
        "id": "MXZH2CCx_Rno",
        "outputId": "4fc0dd77-9c55-4a9c-8972-d969f98c4f11"
      },
      "source": [
        "!pip install fastai\n",
        "!pip install fastai --upgrade\n",
        "!pip install -Uqq fastbook\n",
        "!pip install DuckDuckGoImages\n",
        "!pip install -q jmd_imagescraper\n",
        "#!pip install voila\n",
        "#!juypter serverextension enable voila --sys-prefix\n"
      ],
      "execution_count": 1,
      "outputs": [
        {
          "output_type": "stream",
          "name": "stdout",
          "text": [
            "Requirement already satisfied: fastai in /usr/local/lib/python3.7/dist-packages (2.5.2)\n",
            "Requirement already satisfied: fastprogress>=0.2.4 in /usr/local/lib/python3.7/dist-packages (from fastai) (1.0.0)\n",
            "Requirement already satisfied: scikit-learn in /usr/local/lib/python3.7/dist-packages (from fastai) (0.22.2.post1)\n",
            "Requirement already satisfied: pyyaml in /usr/local/lib/python3.7/dist-packages (from fastai) (3.13)\n",
            "Requirement already satisfied: scipy in /usr/local/lib/python3.7/dist-packages (from fastai) (1.4.1)\n",
            "Requirement already satisfied: fastdownload<2,>=0.0.5 in /usr/local/lib/python3.7/dist-packages (from fastai) (0.0.5)\n",
            "Requirement already satisfied: packaging in /usr/local/lib/python3.7/dist-packages (from fastai) (21.0)\n",
            "Requirement already satisfied: pandas in /usr/local/lib/python3.7/dist-packages (from fastai) (1.1.5)\n",
            "Requirement already satisfied: spacy<4 in /usr/local/lib/python3.7/dist-packages (from fastai) (2.2.4)\n",
            "Requirement already satisfied: torch<1.10,>=1.7.0 in /usr/local/lib/python3.7/dist-packages (from fastai) (1.9.0+cu102)\n",
            "Requirement already satisfied: torchvision>=0.8.2 in /usr/local/lib/python3.7/dist-packages (from fastai) (0.10.0+cu102)\n",
            "Requirement already satisfied: requests in /usr/local/lib/python3.7/dist-packages (from fastai) (2.26.0)\n",
            "Requirement already satisfied: pip in /usr/local/lib/python3.7/dist-packages (from fastai) (21.1.3)\n",
            "Requirement already satisfied: matplotlib in /usr/local/lib/python3.7/dist-packages (from fastai) (3.2.2)\n",
            "Requirement already satisfied: pillow>6.0.0 in /usr/local/lib/python3.7/dist-packages (from fastai) (7.1.2)\n",
            "Requirement already satisfied: fastcore<1.4,>=1.3.8 in /usr/local/lib/python3.7/dist-packages (from fastai) (1.3.26)\n",
            "Requirement already satisfied: numpy in /usr/local/lib/python3.7/dist-packages (from fastprogress>=0.2.4->fastai) (1.19.5)\n",
            "Requirement already satisfied: cymem<2.1.0,>=2.0.2 in /usr/local/lib/python3.7/dist-packages (from spacy<4->fastai) (2.0.5)\n",
            "Requirement already satisfied: wasabi<1.1.0,>=0.4.0 in /usr/local/lib/python3.7/dist-packages (from spacy<4->fastai) (0.8.2)\n",
            "Requirement already satisfied: tqdm<5.0.0,>=4.38.0 in /usr/local/lib/python3.7/dist-packages (from spacy<4->fastai) (4.62.0)\n",
            "Requirement already satisfied: blis<0.5.0,>=0.4.0 in /usr/local/lib/python3.7/dist-packages (from spacy<4->fastai) (0.4.1)\n",
            "Requirement already satisfied: setuptools in /usr/local/lib/python3.7/dist-packages (from spacy<4->fastai) (57.4.0)\n",
            "Requirement already satisfied: plac<1.2.0,>=0.9.6 in /usr/local/lib/python3.7/dist-packages (from spacy<4->fastai) (1.1.3)\n",
            "Requirement already satisfied: preshed<3.1.0,>=3.0.2 in /usr/local/lib/python3.7/dist-packages (from spacy<4->fastai) (3.0.5)\n",
            "Requirement already satisfied: murmurhash<1.1.0,>=0.28.0 in /usr/local/lib/python3.7/dist-packages (from spacy<4->fastai) (1.0.5)\n",
            "Requirement already satisfied: srsly<1.1.0,>=1.0.2 in /usr/local/lib/python3.7/dist-packages (from spacy<4->fastai) (1.0.5)\n",
            "Requirement already satisfied: thinc==7.4.0 in /usr/local/lib/python3.7/dist-packages (from spacy<4->fastai) (7.4.0)\n",
            "Requirement already satisfied: catalogue<1.1.0,>=0.0.7 in /usr/local/lib/python3.7/dist-packages (from spacy<4->fastai) (1.0.0)\n",
            "Requirement already satisfied: importlib-metadata>=0.20 in /usr/local/lib/python3.7/dist-packages (from catalogue<1.1.0,>=0.0.7->spacy<4->fastai) (4.6.4)\n",
            "Requirement already satisfied: typing-extensions>=3.6.4 in /usr/local/lib/python3.7/dist-packages (from importlib-metadata>=0.20->catalogue<1.1.0,>=0.0.7->spacy<4->fastai) (3.7.4.3)\n",
            "Requirement already satisfied: zipp>=0.5 in /usr/local/lib/python3.7/dist-packages (from importlib-metadata>=0.20->catalogue<1.1.0,>=0.0.7->spacy<4->fastai) (3.5.0)\n",
            "Requirement already satisfied: idna<4,>=2.5 in /usr/local/lib/python3.7/dist-packages (from requests->fastai) (2.10)\n",
            "Requirement already satisfied: urllib3<1.27,>=1.21.1 in /usr/local/lib/python3.7/dist-packages (from requests->fastai) (1.24.3)\n",
            "Requirement already satisfied: certifi>=2017.4.17 in /usr/local/lib/python3.7/dist-packages (from requests->fastai) (2021.5.30)\n",
            "Requirement already satisfied: charset-normalizer~=2.0.0 in /usr/local/lib/python3.7/dist-packages (from requests->fastai) (2.0.4)\n",
            "Requirement already satisfied: pyparsing!=2.0.4,!=2.1.2,!=2.1.6,>=2.0.1 in /usr/local/lib/python3.7/dist-packages (from matplotlib->fastai) (2.4.7)\n",
            "Requirement already satisfied: cycler>=0.10 in /usr/local/lib/python3.7/dist-packages (from matplotlib->fastai) (0.10.0)\n",
            "Requirement already satisfied: kiwisolver>=1.0.1 in /usr/local/lib/python3.7/dist-packages (from matplotlib->fastai) (1.3.1)\n",
            "Requirement already satisfied: python-dateutil>=2.1 in /usr/local/lib/python3.7/dist-packages (from matplotlib->fastai) (2.8.2)\n",
            "Requirement already satisfied: six in /usr/local/lib/python3.7/dist-packages (from cycler>=0.10->matplotlib->fastai) (1.15.0)\n",
            "Requirement already satisfied: pytz>=2017.2 in /usr/local/lib/python3.7/dist-packages (from pandas->fastai) (2018.9)\n",
            "Requirement already satisfied: joblib>=0.11 in /usr/local/lib/python3.7/dist-packages (from scikit-learn->fastai) (1.0.1)\n",
            "Requirement already satisfied: fastai in /usr/local/lib/python3.7/dist-packages (2.5.2)\n",
            "Requirement already satisfied: requests in /usr/local/lib/python3.7/dist-packages (from fastai) (2.26.0)\n",
            "Requirement already satisfied: fastcore<1.4,>=1.3.8 in /usr/local/lib/python3.7/dist-packages (from fastai) (1.3.26)\n",
            "Requirement already satisfied: pip in /usr/local/lib/python3.7/dist-packages (from fastai) (21.1.3)\n",
            "Requirement already satisfied: scipy in /usr/local/lib/python3.7/dist-packages (from fastai) (1.4.1)\n",
            "Requirement already satisfied: torch<1.10,>=1.7.0 in /usr/local/lib/python3.7/dist-packages (from fastai) (1.9.0+cu102)\n",
            "Requirement already satisfied: fastdownload<2,>=0.0.5 in /usr/local/lib/python3.7/dist-packages (from fastai) (0.0.5)\n",
            "Requirement already satisfied: matplotlib in /usr/local/lib/python3.7/dist-packages (from fastai) (3.2.2)\n",
            "Requirement already satisfied: packaging in /usr/local/lib/python3.7/dist-packages (from fastai) (21.0)\n",
            "Requirement already satisfied: spacy<4 in /usr/local/lib/python3.7/dist-packages (from fastai) (2.2.4)\n",
            "Requirement already satisfied: pandas in /usr/local/lib/python3.7/dist-packages (from fastai) (1.1.5)\n",
            "Requirement already satisfied: fastprogress>=0.2.4 in /usr/local/lib/python3.7/dist-packages (from fastai) (1.0.0)\n",
            "Requirement already satisfied: pillow>6.0.0 in /usr/local/lib/python3.7/dist-packages (from fastai) (7.1.2)\n",
            "Requirement already satisfied: scikit-learn in /usr/local/lib/python3.7/dist-packages (from fastai) (0.22.2.post1)\n",
            "Requirement already satisfied: torchvision>=0.8.2 in /usr/local/lib/python3.7/dist-packages (from fastai) (0.10.0+cu102)\n",
            "Requirement already satisfied: pyyaml in /usr/local/lib/python3.7/dist-packages (from fastai) (3.13)\n",
            "Requirement already satisfied: numpy in /usr/local/lib/python3.7/dist-packages (from fastprogress>=0.2.4->fastai) (1.19.5)\n",
            "Requirement already satisfied: setuptools in /usr/local/lib/python3.7/dist-packages (from spacy<4->fastai) (57.4.0)\n",
            "Requirement already satisfied: wasabi<1.1.0,>=0.4.0 in /usr/local/lib/python3.7/dist-packages (from spacy<4->fastai) (0.8.2)\n",
            "Requirement already satisfied: murmurhash<1.1.0,>=0.28.0 in /usr/local/lib/python3.7/dist-packages (from spacy<4->fastai) (1.0.5)\n",
            "Requirement already satisfied: srsly<1.1.0,>=1.0.2 in /usr/local/lib/python3.7/dist-packages (from spacy<4->fastai) (1.0.5)\n",
            "Requirement already satisfied: tqdm<5.0.0,>=4.38.0 in /usr/local/lib/python3.7/dist-packages (from spacy<4->fastai) (4.62.0)\n",
            "Requirement already satisfied: preshed<3.1.0,>=3.0.2 in /usr/local/lib/python3.7/dist-packages (from spacy<4->fastai) (3.0.5)\n",
            "Requirement already satisfied: plac<1.2.0,>=0.9.6 in /usr/local/lib/python3.7/dist-packages (from spacy<4->fastai) (1.1.3)\n",
            "Requirement already satisfied: cymem<2.1.0,>=2.0.2 in /usr/local/lib/python3.7/dist-packages (from spacy<4->fastai) (2.0.5)\n",
            "Requirement already satisfied: blis<0.5.0,>=0.4.0 in /usr/local/lib/python3.7/dist-packages (from spacy<4->fastai) (0.4.1)\n",
            "Requirement already satisfied: catalogue<1.1.0,>=0.0.7 in /usr/local/lib/python3.7/dist-packages (from spacy<4->fastai) (1.0.0)\n",
            "Requirement already satisfied: thinc==7.4.0 in /usr/local/lib/python3.7/dist-packages (from spacy<4->fastai) (7.4.0)\n",
            "Requirement already satisfied: importlib-metadata>=0.20 in /usr/local/lib/python3.7/dist-packages (from catalogue<1.1.0,>=0.0.7->spacy<4->fastai) (4.6.4)\n",
            "Requirement already satisfied: typing-extensions>=3.6.4 in /usr/local/lib/python3.7/dist-packages (from importlib-metadata>=0.20->catalogue<1.1.0,>=0.0.7->spacy<4->fastai) (3.7.4.3)\n",
            "Requirement already satisfied: zipp>=0.5 in /usr/local/lib/python3.7/dist-packages (from importlib-metadata>=0.20->catalogue<1.1.0,>=0.0.7->spacy<4->fastai) (3.5.0)\n",
            "Requirement already satisfied: charset-normalizer~=2.0.0 in /usr/local/lib/python3.7/dist-packages (from requests->fastai) (2.0.4)\n",
            "Requirement already satisfied: idna<4,>=2.5 in /usr/local/lib/python3.7/dist-packages (from requests->fastai) (2.10)\n",
            "Requirement already satisfied: urllib3<1.27,>=1.21.1 in /usr/local/lib/python3.7/dist-packages (from requests->fastai) (1.24.3)\n",
            "Requirement already satisfied: certifi>=2017.4.17 in /usr/local/lib/python3.7/dist-packages (from requests->fastai) (2021.5.30)\n",
            "Requirement already satisfied: pyparsing!=2.0.4,!=2.1.2,!=2.1.6,>=2.0.1 in /usr/local/lib/python3.7/dist-packages (from matplotlib->fastai) (2.4.7)\n",
            "Requirement already satisfied: kiwisolver>=1.0.1 in /usr/local/lib/python3.7/dist-packages (from matplotlib->fastai) (1.3.1)\n",
            "Requirement already satisfied: python-dateutil>=2.1 in /usr/local/lib/python3.7/dist-packages (from matplotlib->fastai) (2.8.2)\n",
            "Requirement already satisfied: cycler>=0.10 in /usr/local/lib/python3.7/dist-packages (from matplotlib->fastai) (0.10.0)\n",
            "Requirement already satisfied: six in /usr/local/lib/python3.7/dist-packages (from cycler>=0.10->matplotlib->fastai) (1.15.0)\n",
            "Requirement already satisfied: pytz>=2017.2 in /usr/local/lib/python3.7/dist-packages (from pandas->fastai) (2018.9)\n",
            "Requirement already satisfied: joblib>=0.11 in /usr/local/lib/python3.7/dist-packages (from scikit-learn->fastai) (1.0.1)\n",
            "Requirement already satisfied: DuckDuckGoImages in /usr/local/lib/python3.7/dist-packages (2.0.1)\n",
            "Requirement already satisfied: Pillow>=2.2.1 in /usr/local/lib/python3.7/dist-packages (from DuckDuckGoImages) (7.1.2)\n",
            "Requirement already satisfied: requests>=2.24.0 in /usr/local/lib/python3.7/dist-packages (from DuckDuckGoImages) (2.26.0)\n",
            "Requirement already satisfied: joblib>=0.16.0 in /usr/local/lib/python3.7/dist-packages (from DuckDuckGoImages) (1.0.1)\n",
            "Requirement already satisfied: charset-normalizer~=2.0.0 in /usr/local/lib/python3.7/dist-packages (from requests>=2.24.0->DuckDuckGoImages) (2.0.4)\n",
            "Requirement already satisfied: certifi>=2017.4.17 in /usr/local/lib/python3.7/dist-packages (from requests>=2.24.0->DuckDuckGoImages) (2021.5.30)\n",
            "Requirement already satisfied: idna<4,>=2.5 in /usr/local/lib/python3.7/dist-packages (from requests>=2.24.0->DuckDuckGoImages) (2.10)\n",
            "Requirement already satisfied: urllib3<1.27,>=1.21.1 in /usr/local/lib/python3.7/dist-packages (from requests>=2.24.0->DuckDuckGoImages) (1.24.3)\n"
          ]
        }
      ]
    },
    {
      "cell_type": "code",
      "metadata": {
        "id": "uMQA_AYn_VwA"
      },
      "source": [
        "\n",
        "import fastai\n",
        "import fastbook\n",
        "fastbook.setup_book()\n",
        "from fastbook import *\n",
        "from fastai.vision.widgets import *\n",
        "from jmd_imagescraper.core import * \n",
        "from pathlib import Path\n",
        "from jmd_imagescraper.imagecleaner import *"
      ],
      "execution_count": 2,
      "outputs": []
    },
    {
      "cell_type": "code",
      "metadata": {
        "id": "IhP7ulEx_XZk"
      },
      "source": [
        "animals=['cat','dog']\n",
        "path = Path().cwd()/\"animals\" #assigns path to current working directory"
      ],
      "execution_count": 3,
      "outputs": []
    },
    {
      "cell_type": "code",
      "metadata": {
        "colab": {
          "base_uri": "https://localhost:8080/",
          "height": 1000
        },
        "id": "afT4cUXcDSY4",
        "outputId": "5425745f-781e-4a82-e8bd-60af81e10fa9"
      },
      "source": [
        "#downloads 100 images of 'cats' and saves it in path/cat\n",
        "duckduckgo_search(path,\"cat\",\"cats\",max_results=100) \n"
      ],
      "execution_count": 4,
      "outputs": [
        {
          "output_type": "stream",
          "name": "stdout",
          "text": [
            "Duckduckgo search: cats\n",
            "Downloading results into /content/animals/cat\n"
          ]
        },
        {
          "output_type": "display_data",
          "data": {
            "text/html": [
              "\n",
              "    <div>\n",
              "        <style>\n",
              "            /* Turns off some styling */\n",
              "            progress {\n",
              "                /* gets rid of default border in Firefox and Opera. */\n",
              "                border: none;\n",
              "                /* Needs to be in here for Safari polyfill so background images work as expected. */\n",
              "                background-size: auto;\n",
              "            }\n",
              "            .progress-bar-interrupted, .progress-bar-interrupted::-webkit-progress-bar {\n",
              "                background: #F44336;\n",
              "            }\n",
              "        </style>\n",
              "      <progress value='100' class='' max='100' style='width:300px; height:20px; vertical-align: middle;'></progress>\n",
              "      100.00% [100/100 00:08<00:00 Images downloaded]\n",
              "    </div>\n",
              "    "
            ],
            "text/plain": [
              "<IPython.core.display.HTML object>"
            ]
          },
          "metadata": {}
        },
        {
          "output_type": "execute_result",
          "data": {
            "text/plain": [
              "[Path('/content/animals/cat/201_8a6c3ab3.jpg'),\n",
              " Path('/content/animals/cat/202_9c776839.jpg'),\n",
              " Path('/content/animals/cat/203_143e5272.jpg'),\n",
              " Path('/content/animals/cat/204_3365996a.jpg'),\n",
              " Path('/content/animals/cat/205_720b200f.jpg'),\n",
              " Path('/content/animals/cat/206_f6c6a2b5.jpg'),\n",
              " Path('/content/animals/cat/207_f84dd160.jpg'),\n",
              " Path('/content/animals/cat/208_7d05d733.jpg'),\n",
              " Path('/content/animals/cat/209_7091ba23.jpg'),\n",
              " Path('/content/animals/cat/210_3270ccd5.jpg'),\n",
              " Path('/content/animals/cat/211_46ea6c4e.jpg'),\n",
              " Path('/content/animals/cat/212_81de5688.jpg'),\n",
              " Path('/content/animals/cat/213_fbe35ffa.jpg'),\n",
              " Path('/content/animals/cat/214_cb95f512.jpg'),\n",
              " Path('/content/animals/cat/215_cb4d3476.jpg'),\n",
              " Path('/content/animals/cat/216_23e8c7ae.jpg'),\n",
              " Path('/content/animals/cat/217_e9489c1c.jpg'),\n",
              " Path('/content/animals/cat/218_d34b2a74.jpg'),\n",
              " Path('/content/animals/cat/219_71f0b8a9.jpg'),\n",
              " Path('/content/animals/cat/220_35df8af0.jpg'),\n",
              " Path('/content/animals/cat/221_069651e4.jpg'),\n",
              " Path('/content/animals/cat/222_f9e1e8d9.jpg'),\n",
              " Path('/content/animals/cat/223_a87922dc.jpg'),\n",
              " Path('/content/animals/cat/224_a5be5e03.jpg'),\n",
              " Path('/content/animals/cat/225_8d0e8161.jpg'),\n",
              " Path('/content/animals/cat/226_42f8c99b.jpg'),\n",
              " Path('/content/animals/cat/227_78eaefda.jpg'),\n",
              " Path('/content/animals/cat/228_2e8c96a7.jpg'),\n",
              " Path('/content/animals/cat/229_54c3efe5.jpg'),\n",
              " Path('/content/animals/cat/230_b6def7ee.jpg'),\n",
              " Path('/content/animals/cat/231_a0366ed5.jpg'),\n",
              " Path('/content/animals/cat/232_025abba1.jpg'),\n",
              " Path('/content/animals/cat/233_cae571ad.jpg'),\n",
              " Path('/content/animals/cat/234_f58db50f.jpg'),\n",
              " Path('/content/animals/cat/235_71ddf9ce.jpg'),\n",
              " Path('/content/animals/cat/236_c8e5105c.jpg'),\n",
              " Path('/content/animals/cat/237_fce3999c.jpg'),\n",
              " Path('/content/animals/cat/238_e9899c0f.jpg'),\n",
              " Path('/content/animals/cat/239_9b1fa862.jpg'),\n",
              " Path('/content/animals/cat/240_501796d9.jpg'),\n",
              " Path('/content/animals/cat/241_c05b9142.jpg'),\n",
              " Path('/content/animals/cat/242_9cdfdef6.jpg'),\n",
              " Path('/content/animals/cat/243_c9ba929b.jpg'),\n",
              " Path('/content/animals/cat/244_003a1fd5.jpg'),\n",
              " Path('/content/animals/cat/245_9954e805.jpg'),\n",
              " Path('/content/animals/cat/246_4af376b7.jpg'),\n",
              " Path('/content/animals/cat/247_6c0a54a4.jpg'),\n",
              " Path('/content/animals/cat/248_fa194f37.jpg'),\n",
              " Path('/content/animals/cat/249_95494469.jpg'),\n",
              " Path('/content/animals/cat/250_ea5eb410.jpg'),\n",
              " Path('/content/animals/cat/251_dfc541dd.jpg'),\n",
              " Path('/content/animals/cat/252_5bd73852.jpg'),\n",
              " Path('/content/animals/cat/253_b410f8d8.jpg'),\n",
              " Path('/content/animals/cat/254_dd6e6e64.jpg'),\n",
              " Path('/content/animals/cat/255_c5d6ca90.jpg'),\n",
              " Path('/content/animals/cat/256_17bad8e5.jpg'),\n",
              " Path('/content/animals/cat/257_38a01c0d.jpg'),\n",
              " Path('/content/animals/cat/258_3a161122.jpg'),\n",
              " Path('/content/animals/cat/259_5f531aba.jpg'),\n",
              " Path('/content/animals/cat/260_70c06900.jpg'),\n",
              " Path('/content/animals/cat/261_738d9ac5.jpg'),\n",
              " Path('/content/animals/cat/262_d22f0d63.jpg'),\n",
              " Path('/content/animals/cat/263_761bd66d.jpg'),\n",
              " Path('/content/animals/cat/264_d6073da1.jpg'),\n",
              " Path('/content/animals/cat/265_fd8fec12.jpg'),\n",
              " Path('/content/animals/cat/266_f16d4510.jpg'),\n",
              " Path('/content/animals/cat/267_54b85c98.jpg'),\n",
              " Path('/content/animals/cat/268_80133de8.jpg'),\n",
              " Path('/content/animals/cat/269_27b73c77.jpg'),\n",
              " Path('/content/animals/cat/270_b3eed375.jpg'),\n",
              " Path('/content/animals/cat/271_35419163.jpg'),\n",
              " Path('/content/animals/cat/272_61e04806.jpg'),\n",
              " Path('/content/animals/cat/273_4507b002.jpg'),\n",
              " Path('/content/animals/cat/274_bb55e1ec.jpg'),\n",
              " Path('/content/animals/cat/275_afe35978.jpg'),\n",
              " Path('/content/animals/cat/276_c8fe24d8.jpg'),\n",
              " Path('/content/animals/cat/277_aec9c2d5.jpg'),\n",
              " Path('/content/animals/cat/278_5c2edf84.jpg'),\n",
              " Path('/content/animals/cat/279_57f0b069.jpg'),\n",
              " Path('/content/animals/cat/280_5816c0be.jpg'),\n",
              " Path('/content/animals/cat/281_2736181c.jpg'),\n",
              " Path('/content/animals/cat/282_188e5a7b.jpg'),\n",
              " Path('/content/animals/cat/283_d65eefbe.jpg'),\n",
              " Path('/content/animals/cat/284_989a0f62.jpg'),\n",
              " Path('/content/animals/cat/285_25661484.jpg'),\n",
              " Path('/content/animals/cat/286_cf36640f.jpg'),\n",
              " Path('/content/animals/cat/287_750b651a.jpg'),\n",
              " Path('/content/animals/cat/288_ae723f72.jpg'),\n",
              " Path('/content/animals/cat/289_9be0d946.jpg'),\n",
              " Path('/content/animals/cat/290_bdcfc889.jpg'),\n",
              " Path('/content/animals/cat/291_bacb135d.jpg'),\n",
              " Path('/content/animals/cat/292_7584bc95.jpg'),\n",
              " Path('/content/animals/cat/293_6811a75a.jpg'),\n",
              " Path('/content/animals/cat/294_2077e96b.jpg'),\n",
              " Path('/content/animals/cat/295_d1bebf1b.jpg'),\n",
              " Path('/content/animals/cat/296_13e8e3d9.jpg'),\n",
              " Path('/content/animals/cat/297_98ebcd9f.jpg'),\n",
              " Path('/content/animals/cat/298_dce5a541.jpg'),\n",
              " Path('/content/animals/cat/299_36f9b7e4.jpg'),\n",
              " Path('/content/animals/cat/300_0de97574.jpg')]"
            ]
          },
          "metadata": {},
          "execution_count": 4
        }
      ]
    },
    {
      "cell_type": "code",
      "metadata": {
        "colab": {
          "base_uri": "https://localhost:8080/",
          "height": 1000
        },
        "id": "SsXS0Uw4FHfb",
        "outputId": "302c3eee-e5dd-41e3-94ba-95feb2ba5645"
      },
      "source": [
        "# downloads 100 images of 'dogs' and saves it in path/dog\n",
        "duckduckgo_search(path, \"dog\", \"dogs\", max_results=100)"
      ],
      "execution_count": 5,
      "outputs": [
        {
          "output_type": "stream",
          "name": "stdout",
          "text": [
            "Duckduckgo search: dogs\n",
            "Downloading results into /content/animals/dog\n"
          ]
        },
        {
          "output_type": "display_data",
          "data": {
            "text/html": [
              "\n",
              "    <div>\n",
              "        <style>\n",
              "            /* Turns off some styling */\n",
              "            progress {\n",
              "                /* gets rid of default border in Firefox and Opera. */\n",
              "                border: none;\n",
              "                /* Needs to be in here for Safari polyfill so background images work as expected. */\n",
              "                background-size: auto;\n",
              "            }\n",
              "            .progress-bar-interrupted, .progress-bar-interrupted::-webkit-progress-bar {\n",
              "                background: #F44336;\n",
              "            }\n",
              "        </style>\n",
              "      <progress value='100' class='' max='100' style='width:300px; height:20px; vertical-align: middle;'></progress>\n",
              "      100.00% [100/100 00:08<00:00 Images downloaded]\n",
              "    </div>\n",
              "    "
            ],
            "text/plain": [
              "<IPython.core.display.HTML object>"
            ]
          },
          "metadata": {}
        },
        {
          "output_type": "execute_result",
          "data": {
            "text/plain": [
              "[Path('/content/animals/dog/201_0e073b91.jpg'),\n",
              " Path('/content/animals/dog/202_890d9f8a.jpg'),\n",
              " Path('/content/animals/dog/203_1758ff6f.jpg'),\n",
              " Path('/content/animals/dog/204_8ce2308b.jpg'),\n",
              " Path('/content/animals/dog/205_c2cf46b1.jpg'),\n",
              " Path('/content/animals/dog/206_9360b9f2.jpg'),\n",
              " Path('/content/animals/dog/207_4c8ea1ee.jpg'),\n",
              " Path('/content/animals/dog/208_fa803e67.jpg'),\n",
              " Path('/content/animals/dog/209_e0c9e2a8.jpg'),\n",
              " Path('/content/animals/dog/210_815ac2c4.jpg'),\n",
              " Path('/content/animals/dog/211_1112cc0f.jpg'),\n",
              " Path('/content/animals/dog/212_2ced181b.jpg'),\n",
              " Path('/content/animals/dog/213_9f3158e6.jpg'),\n",
              " Path('/content/animals/dog/214_48441d50.jpg'),\n",
              " Path('/content/animals/dog/215_0b6c67eb.jpg'),\n",
              " Path('/content/animals/dog/216_54af8a8a.jpg'),\n",
              " Path('/content/animals/dog/217_ec9c19f3.jpg'),\n",
              " Path('/content/animals/dog/218_f77c56bc.jpg'),\n",
              " Path('/content/animals/dog/219_f8f6efcf.jpg'),\n",
              " Path('/content/animals/dog/220_e73f278f.jpg'),\n",
              " Path('/content/animals/dog/221_76fa156c.jpg'),\n",
              " Path('/content/animals/dog/222_bcb9c8fe.jpg'),\n",
              " Path('/content/animals/dog/223_48957078.jpg'),\n",
              " Path('/content/animals/dog/224_24114ac4.jpg'),\n",
              " Path('/content/animals/dog/225_e865ebf9.jpg'),\n",
              " Path('/content/animals/dog/226_0dced084.jpg'),\n",
              " Path('/content/animals/dog/227_130e134b.jpg'),\n",
              " Path('/content/animals/dog/228_05677fcc.jpg'),\n",
              " Path('/content/animals/dog/229_5d3cf6b6.jpg'),\n",
              " Path('/content/animals/dog/230_e09d8970.jpg'),\n",
              " Path('/content/animals/dog/231_8e8b0834.jpg'),\n",
              " Path('/content/animals/dog/232_0e6ec8df.jpg'),\n",
              " Path('/content/animals/dog/233_aafcbfc1.jpg'),\n",
              " Path('/content/animals/dog/234_7cc2e352.jpg'),\n",
              " Path('/content/animals/dog/235_17d33e82.jpg'),\n",
              " Path('/content/animals/dog/236_23f87e11.jpg'),\n",
              " Path('/content/animals/dog/237_702e8e50.jpg'),\n",
              " Path('/content/animals/dog/238_a9b85d3c.jpg'),\n",
              " Path('/content/animals/dog/239_f187a48d.jpg'),\n",
              " Path('/content/animals/dog/240_61609f0d.jpg'),\n",
              " Path('/content/animals/dog/241_9d3f5be7.jpg'),\n",
              " Path('/content/animals/dog/242_ab80b7f8.jpg'),\n",
              " Path('/content/animals/dog/243_0f8e2fe2.jpg'),\n",
              " Path('/content/animals/dog/244_c2142b02.jpg'),\n",
              " Path('/content/animals/dog/245_b3494f80.jpg'),\n",
              " Path('/content/animals/dog/246_bdb9407c.jpg'),\n",
              " Path('/content/animals/dog/247_3197bf16.jpg'),\n",
              " Path('/content/animals/dog/248_346bb2e1.jpg'),\n",
              " Path('/content/animals/dog/249_006d3a6b.jpg'),\n",
              " Path('/content/animals/dog/250_35384e63.jpg'),\n",
              " Path('/content/animals/dog/251_9883acca.jpg'),\n",
              " Path('/content/animals/dog/252_eb84a228.jpg'),\n",
              " Path('/content/animals/dog/253_5f3f2ecb.jpg'),\n",
              " Path('/content/animals/dog/254_a86e977e.jpg'),\n",
              " Path('/content/animals/dog/255_c214cbea.jpg'),\n",
              " Path('/content/animals/dog/256_6c74813f.jpg'),\n",
              " Path('/content/animals/dog/257_8aea126e.jpg'),\n",
              " Path('/content/animals/dog/258_7a749bc2.jpg'),\n",
              " Path('/content/animals/dog/259_72830e22.jpg'),\n",
              " Path('/content/animals/dog/260_432a7548.jpg'),\n",
              " Path('/content/animals/dog/261_8f7956d7.jpg'),\n",
              " Path('/content/animals/dog/262_aba2702f.jpg'),\n",
              " Path('/content/animals/dog/263_3e80c9a6.jpg'),\n",
              " Path('/content/animals/dog/264_fd93fc7d.jpg'),\n",
              " Path('/content/animals/dog/265_17518961.jpg'),\n",
              " Path('/content/animals/dog/266_8483ed91.jpg'),\n",
              " Path('/content/animals/dog/267_f7ad5e63.jpg'),\n",
              " Path('/content/animals/dog/268_e945ae01.jpg'),\n",
              " Path('/content/animals/dog/269_081b3525.jpg'),\n",
              " Path('/content/animals/dog/270_d6241bd3.jpg'),\n",
              " Path('/content/animals/dog/271_eeea4931.jpg'),\n",
              " Path('/content/animals/dog/272_30e17e70.jpg'),\n",
              " Path('/content/animals/dog/273_ee2bceac.jpg'),\n",
              " Path('/content/animals/dog/274_18abd870.jpg'),\n",
              " Path('/content/animals/dog/275_101e1c84.jpg'),\n",
              " Path('/content/animals/dog/276_d0f409e4.jpg'),\n",
              " Path('/content/animals/dog/277_f424b395.jpg'),\n",
              " Path('/content/animals/dog/278_b8525e3d.jpg'),\n",
              " Path('/content/animals/dog/279_cb35bfa7.jpg'),\n",
              " Path('/content/animals/dog/280_a54bf2e5.jpg'),\n",
              " Path('/content/animals/dog/281_aca3af71.jpg'),\n",
              " Path('/content/animals/dog/282_237c7cec.jpg'),\n",
              " Path('/content/animals/dog/283_38d7f6d6.jpg'),\n",
              " Path('/content/animals/dog/284_c9e3e67e.jpg'),\n",
              " Path('/content/animals/dog/285_f9276934.jpg'),\n",
              " Path('/content/animals/dog/286_e185657a.jpg'),\n",
              " Path('/content/animals/dog/287_5cf8a380.jpg'),\n",
              " Path('/content/animals/dog/288_2a824627.jpg'),\n",
              " Path('/content/animals/dog/289_bab36f24.jpg'),\n",
              " Path('/content/animals/dog/290_8ef30913.jpg'),\n",
              " Path('/content/animals/dog/291_c17ea441.jpg'),\n",
              " Path('/content/animals/dog/292_f6b77679.jpg'),\n",
              " Path('/content/animals/dog/293_bb493dca.jpg'),\n",
              " Path('/content/animals/dog/294_6d7b78b3.jpg'),\n",
              " Path('/content/animals/dog/295_55128b6d.jpg'),\n",
              " Path('/content/animals/dog/296_3067a7c8.jpg'),\n",
              " Path('/content/animals/dog/297_4e7dc063.jpg'),\n",
              " Path('/content/animals/dog/298_1145c3c2.jpg'),\n",
              " Path('/content/animals/dog/299_922c9c41.jpg'),\n",
              " Path('/content/animals/dog/300_b24f82e7.jpg')]"
            ]
          },
          "metadata": {},
          "execution_count": 5
        }
      ]
    },
    {
      "cell_type": "code",
      "metadata": {
        "id": "hecdhVNwFSuE"
      },
      "source": [
        "#display_image_cleaner(path)"
      ],
      "execution_count": 6,
      "outputs": []
    },
    {
      "cell_type": "code",
      "metadata": {
        "id": "__ZlVgvqFZek"
      },
      "source": [
        "fns = get_image_files(path)\n",
        "#fns"
      ],
      "execution_count": 9,
      "outputs": []
    },
    {
      "cell_type": "code",
      "metadata": {
        "colab": {
          "base_uri": "https://localhost:8080/"
        },
        "id": "r_mkd_aZGllm",
        "outputId": "7b805b58-4e9c-45a6-babd-35013836fbd6"
      },
      "source": [
        "# look for failed downloads and unlink them (remove) from folder\n",
        "\n",
        "failed = verify_images(fns) # looks for files that are not images\n",
        "failed"
      ],
      "execution_count": 10,
      "outputs": [
        {
          "output_type": "execute_result",
          "data": {
            "text/plain": [
              "(#0) []"
            ]
          },
          "metadata": {},
          "execution_count": 10
        }
      ]
    },
    {
      "cell_type": "code",
      "metadata": {
        "id": "7r6QN-jOGzUA"
      },
      "source": [
        "failed.map(Path.unlink); # unlinks the failed files"
      ],
      "execution_count": 11,
      "outputs": []
    },
    {
      "cell_type": "code",
      "metadata": {
        "id": "7YQu0MQnG4EU"
      },
      "source": [
        "# dataloaders\n",
        "\n",
        "animals=DataBlock(\n",
        "    blocks=(ImageBlock, CategoryBlock),\n",
        "    get_items=get_image_files,\n",
        "    splitter=RandomSplitter(valid_pct=0.3, seed=42),\n",
        "    get_y=parent_label,\n",
        "    item_tfms=RandomResizedCrop(224, min_scale=0.5),\n",
        "    batch_tfms=aug_transforms()\n",
        ")"
      ],
      "execution_count": 12,
      "outputs": []
    },
    {
      "cell_type": "markdown",
      "metadata": {
        "id": "QsU1-CTGRImf"
      },
      "source": [
        "DataLoaders is a class which provides batches of a few items at a time to the GPU"
      ]
    },
    {
      "cell_type": "code",
      "metadata": {
        "colab": {
          "base_uri": "https://localhost:8080/"
        },
        "id": "aqcU98OSQ5kW",
        "outputId": "9c0b2bd9-bd16-4714-d57f-e0d6ad04afbf"
      },
      "source": [
        "dls=animals.dataloaders(path)"
      ],
      "execution_count": 13,
      "outputs": [
        {
          "output_type": "stream",
          "name": "stderr",
          "text": [
            "/usr/local/lib/python3.7/dist-packages/torch/_tensor.py:1023: UserWarning: torch.solve is deprecated in favor of torch.linalg.solveand will be removed in a future PyTorch release.\n",
            "torch.linalg.solve has its arguments reversed and does not return the LU factorization.\n",
            "To get the LU factorization see torch.lu, which can be used with torch.lu_solve or torch.lu_unpack.\n",
            "X = torch.solve(B, A).solution\n",
            "should be replaced with\n",
            "X = torch.linalg.solve(A, B) (Triggered internally at  /pytorch/aten/src/ATen/native/BatchLinearAlgebra.cpp:760.)\n",
            "  ret = func(*args, **kwargs)\n"
          ]
        }
      ]
    },
    {
      "cell_type": "markdown",
      "metadata": {
        "id": "k9ya-8rIR8h-"
      },
      "source": [
        "**Train the model**\n",
        "\n",
        "Call for a learner that learns based on the input images in 4 different training iterations or epochs. \n",
        "\n"
      ]
    },
    {
      "cell_type": "code",
      "metadata": {
        "colab": {
          "base_uri": "https://localhost:8080/",
          "height": 295
        },
        "id": "UnxIqOXURjdo",
        "outputId": "40c784af-866d-4fa2-a9f3-0fd4fd286570"
      },
      "source": [
        "learn = cnn_learner(dls, resnet18, metrics=error_rate) # training model\n",
        "learn.fine_tune(4)"
      ],
      "execution_count": 14,
      "outputs": [
        {
          "output_type": "stream",
          "name": "stderr",
          "text": [
            "/usr/local/lib/python3.7/dist-packages/torch/nn/functional.py:718: UserWarning: Named tensors and all their associated APIs are an experimental feature and subject to change. Please do not use them for anything important until they are released as stable. (Triggered internally at  /pytorch/c10/core/TensorImpl.h:1156.)\n",
            "  return torch.max_pool2d(input, kernel_size, stride, padding, dilation, ceil_mode)\n"
          ]
        },
        {
          "output_type": "display_data",
          "data": {
            "text/html": [
              "<table border=\"1\" class=\"dataframe\">\n",
              "  <thead>\n",
              "    <tr style=\"text-align: left;\">\n",
              "      <th>epoch</th>\n",
              "      <th>train_loss</th>\n",
              "      <th>valid_loss</th>\n",
              "      <th>error_rate</th>\n",
              "      <th>time</th>\n",
              "    </tr>\n",
              "  </thead>\n",
              "  <tbody>\n",
              "    <tr>\n",
              "      <td>0</td>\n",
              "      <td>0.588505</td>\n",
              "      <td>0.068691</td>\n",
              "      <td>0.033333</td>\n",
              "      <td>00:06</td>\n",
              "    </tr>\n",
              "  </tbody>\n",
              "</table>"
            ],
            "text/plain": [
              "<IPython.core.display.HTML object>"
            ]
          },
          "metadata": {}
        },
        {
          "output_type": "display_data",
          "data": {
            "text/html": [
              "<table border=\"1\" class=\"dataframe\">\n",
              "  <thead>\n",
              "    <tr style=\"text-align: left;\">\n",
              "      <th>epoch</th>\n",
              "      <th>train_loss</th>\n",
              "      <th>valid_loss</th>\n",
              "      <th>error_rate</th>\n",
              "      <th>time</th>\n",
              "    </tr>\n",
              "  </thead>\n",
              "  <tbody>\n",
              "    <tr>\n",
              "      <td>0</td>\n",
              "      <td>0.132125</td>\n",
              "      <td>0.036195</td>\n",
              "      <td>0.011111</td>\n",
              "      <td>00:07</td>\n",
              "    </tr>\n",
              "    <tr>\n",
              "      <td>1</td>\n",
              "      <td>0.090670</td>\n",
              "      <td>0.023867</td>\n",
              "      <td>0.016667</td>\n",
              "      <td>00:07</td>\n",
              "    </tr>\n",
              "    <tr>\n",
              "      <td>2</td>\n",
              "      <td>0.077278</td>\n",
              "      <td>0.040351</td>\n",
              "      <td>0.016667</td>\n",
              "      <td>00:07</td>\n",
              "    </tr>\n",
              "    <tr>\n",
              "      <td>3</td>\n",
              "      <td>0.064359</td>\n",
              "      <td>0.039803</td>\n",
              "      <td>0.016667</td>\n",
              "      <td>00:07</td>\n",
              "    </tr>\n",
              "  </tbody>\n",
              "</table>"
            ],
            "text/plain": [
              "<IPython.core.display.HTML object>"
            ]
          },
          "metadata": {}
        }
      ]
    },
    {
      "cell_type": "code",
      "metadata": {
        "id": "9b1qPnAqZvlr"
      },
      "source": [
        "# exports the trained model so we can use in production\n",
        "learn.export()\n",
        "path = Path()\n",
        "path.ls(file_exts='.pkl')\n",
        "\n",
        "learn_inf = load_learner(path/'export.pkl')\n",
        "\n"
      ],
      "execution_count": 15,
      "outputs": []
    },
    {
      "cell_type": "markdown",
      "metadata": {
        "id": "QrwSQMXP7x3Q"
      },
      "source": [
        "Create a Notebook App"
      ]
    },
    {
      "cell_type": "code",
      "metadata": {
        "id": "LBHQSsZ-74r3"
      },
      "source": [
        "btn_upload = widgets.FileUpload()\n",
        "out_pl = widgets.Output()\n",
        "out_pl.clear_output()\n",
        "lbl_pred = widgets.Label()\n",
        "lbl_pred.value = 'Please choose an image'\n",
        "btn_run = widgets.Button(description='Classify')"
      ],
      "execution_count": 26,
      "outputs": []
    },
    {
      "cell_type": "markdown",
      "metadata": {
        "id": "-9ovcu9lncZp"
      },
      "source": [
        "Event handler, a function that will be called when pressed."
      ]
    },
    {
      "cell_type": "code",
      "metadata": {
        "id": "rsEj4Mkfnasp"
      },
      "source": [
        "def on_click_classify(change):\n",
        "  img = PILImage.create(btn_upload.data[-1])\n",
        "  out_pl.clear_output()\n",
        "  with out_pl: display(img.to_thumb(128,128))\n",
        "  pred, pred_idx, probs = learn_inf.predict(img)\n",
        "  lbl_pred.value = f'Prediction: {pred}; Probability: {probs[pred_idx]:.04f}'\n",
        "\n",
        "btn_run.on_click(on_click_classify)"
      ],
      "execution_count": 27,
      "outputs": []
    },
    {
      "cell_type": "markdown",
      "metadata": {
        "id": "bCiEpmZto8U-"
      },
      "source": [
        "Create a VBox (vertical box)"
      ]
    },
    {
      "cell_type": "code",
      "metadata": {
        "colab": {
          "base_uri": "https://localhost:8080/",
          "height": 145,
          "referenced_widgets": [
            "ad91c40f5d54417bbf96f92ccd3df92d",
            "a2d6d99fc3c046f596074045358eb75b",
            "69d0e4d5f9244df49979529341ec20a1",
            "396f8c0297ab40d8b19e8c2b49248016",
            "39f3f0b492ed4eee85744ff403e6def6",
            "48d8fa2a163647a9850c98bbb0d76f1e",
            "5f549ccfa714498ab1dbfcc6bc98628e",
            "d0cc30902cbc4a5d86a6c841c7bbd977",
            "9d4ad60f427c4a9384074d6f6705c451",
            "8a87128ed0874253b090ab17cc556319",
            "3394008be50d4f57bbfdf65eab18b8d0",
            "5122c9a6f5a249fa897e9c279d78e21f",
            "5ea7883d00af43cc9079f70a4ebb9a99",
            "8d11509ec1cc4dd398155079849af0ab",
            "77c2ba698c184afd96b92836df3543ca",
            "1ce55712c91548e981548a230c0620fe"
          ]
        },
        "id": "0uv-u3yUpHPF",
        "outputId": "f324ae45-4532-488b-def2-d9ae20d2b3c1"
      },
      "source": [
        "VBox([widgets.Label('Select your cat or dog, then click classify'),\n",
        "      btn_upload, btn_run, out_pl, lbl_pred])"
      ],
      "execution_count": 28,
      "outputs": [
        {
          "output_type": "display_data",
          "data": {
            "application/vnd.jupyter.widget-view+json": {
              "model_id": "ad91c40f5d54417bbf96f92ccd3df92d",
              "version_minor": 0,
              "version_major": 2
            },
            "text/plain": [
              "VBox(children=(Label(value='Select your cat or dog, then click classify'), FileUpload(value={}, description='U…"
            ]
          },
          "metadata": {}
        }
      ]
    }
  ]
}